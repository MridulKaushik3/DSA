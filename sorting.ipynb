{
 "cells": [
  {
   "cell_type": "markdown",
   "metadata": {},
   "source": [
    "# Qucik Sort\n",
    "\n"
   ]
  },
  {
   "cell_type": "code",
   "execution_count": 7,
   "metadata": {},
   "outputs": [
    {
     "name": "stdout",
     "output_type": "stream",
     "text": [
      "[10, 7, 8, 9, 1, 5]\n",
      "[1, 5, 7, 8, 9, 10]\n"
     ]
    }
   ],
   "source": [
    "def quicksort(arr,low,high):\n",
    "    if low<high:\n",
    "\n",
    "        pi = partion(arr,low,high)\n",
    "        quicksort(arr,low,pi-1)\n",
    "        quicksort(arr,pi+1,high)\n",
    "\n",
    "def partion(arr,low,high):\n",
    "    i = low-1\n",
    "    z = high\n",
    "    for j in range(low,high):\n",
    "        if arr[j]<arr[high]:\n",
    "            arr[j],arr[i+1]=arr[i+1],arr[j]\n",
    "            i+=1\n",
    "    arr[high],arr[i+1] = arr[i+1],arr[high]\n",
    "    return i+1\n",
    "\n",
    "arr = [10, 7, 8, 9, 1, 5]\n",
    "print(arr)\n",
    "quicksort(arr,0,len(arr)-1)\n",
    "print(arr)"
   ]
  }
 ],
 "metadata": {
  "kernelspec": {
   "display_name": "Python 3",
   "language": "python",
   "name": "python3"
  },
  "language_info": {
   "codemirror_mode": {
    "name": "ipython",
    "version": 3
   },
   "file_extension": ".py",
   "mimetype": "text/x-python",
   "name": "python",
   "nbconvert_exporter": "python",
   "pygments_lexer": "ipython3",
   "version": "3.12.6"
  }
 },
 "nbformat": 4,
 "nbformat_minor": 2
}
